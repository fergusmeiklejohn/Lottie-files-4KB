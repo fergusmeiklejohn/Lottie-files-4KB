{
 "cells": [
  {
   "cell_type": "code",
   "execution_count": null,
   "id": "437b26bb",
   "metadata": {},
   "outputs": [],
   "source": [
    "!pip install turtle==0.0.2\n",
    "!pip install openai\n",
    "!brew install python-tk"
   ]
  },
  {
   "cell_type": "code",
   "execution_count": 2,
   "id": "df670ef7-4a30-4ef2-afcb-fbde4e1209b4",
   "metadata": {},
   "outputs": [],
   "source": [
    "import openai\n",
    "import json\n",
    "\n",
    "openai.api_key = <open_ai_api_key>"
   ]
  },
  {
   "cell_type": "code",
   "execution_count": 4,
   "id": "6903c65c-e88d-40bf-a0e1-f85ae815958b",
   "metadata": {},
   "outputs": [],
   "source": [
    "def function_calling(query):\n",
    "    functions = [\n",
    "        {\n",
    "            \"name\": \"forward\",\n",
    "            \"description\": \"Move forward by the specified distance, in the same direction as previously showing.\",\n",
    "            \"parameters\": {\n",
    "                \"type\": \"object\",\n",
    "                \"properties\": {\n",
    "                    \"distance\": {\n",
    "                        \"type\": \"number\",\n",
    "                        \"description\": \"A number that specifies the distance to move forward \"\n",
    "                    }\n",
    "                 },\n",
    "                },\n",
    "                \"required\": [\"distance\"],\n",
    "        },\n",
    "\n",
    "        {\n",
    "            \"name\": \"circle\",\n",
    "            \"description\": \"Draw a circle with given radius.\",\n",
    "            \"parameters\": {\n",
    "                \"type\": \"object\",\n",
    "                \"properties\": {\n",
    "                    \"radius\": {\n",
    "                        \"type\": \"number\",\n",
    "                        \"description\": \"return the radius in the query\"\n",
    "                    }\n",
    "                 },\n",
    "                },\n",
    "                \"required\": [\"radius\"],\n",
    "            },\n",
    "        {\n",
    "            \"name\": 'python',\n",
    "            \"description\": 'Not implemented.',\n",
    "            \"parameters\": {\n",
    "                \"type\": 'object',\n",
    "                \"properties\": {}\n",
    "            }\n",
    "        }\n",
    "    ]\n",
    "\n",
    "    response = openai.ChatCompletion.create(\n",
    "        model=\"gpt-3.5-turbo-0613\",\n",
    "        messages=[{\"role\": \"system\", \"content\": query + \". You don’t have a python function available, never attempt to call python.\"}],\n",
    "        functions=functions,\n",
    "        function_call=\"auto\",  # auto is default, but we'll be explicit\n",
    "    )\n",
    "    response_message = response[\"choices\"][0][\"message\"]\n",
    "    return response_message"
   ]
  },
  {
   "cell_type": "code",
   "execution_count": 5,
   "id": "c44e2742",
   "metadata": {},
   "outputs": [],
   "source": [
    "import turtle\n",
    "\n",
    "# Define a function to call other functions dynamically\n",
    "def call_function(name, args):\n",
    "    print(\"name: \" +  name + \" args: \" + str(args))\n",
    "    # Get a reference to the function based on its name\n",
    "    func = getattr(turtle, name)\n",
    "    \n",
    "    # Call the function with the arguments\n",
    "    if args is None:\n",
    "        result = func()\n",
    "    else:\n",
    "        result = func(args)\n",
    "    \n",
    "    # Return the result\n",
    "    return result"
   ]
  },
  {
   "cell_type": "code",
   "execution_count": 22,
   "id": "09d2c11a",
   "metadata": {},
   "outputs": [],
   "source": [
    "import json\n",
    "\n",
    "def call_function_from_query(query):\n",
    "    # Call the function specified in the query\n",
    "    response = function_calling(query)\n",
    "    function_name = response['function_call']['name']\n",
    "    arguments = json.loads(response['function_call']['arguments'])\n",
    "    first_value = next(iter(arguments.values()))\n",
    "    \n",
    "    call_function(function_name, first_value)\n",
    "    \n",
    "    # Call the 'bye' function to close the program\n",
    "    call_function('bye', None)"
   ]
  },
  {
   "cell_type": "code",
   "execution_count": 23,
   "id": "cb608148-30e9-4d56-9381-ce92419e582c",
   "metadata": {},
   "outputs": [],
   "source": [
    "query_1 = \"darw a circle with radius 10\"\n",
    "query_2 = \"move forward 100\""
   ]
  },
  {
   "cell_type": "code",
   "execution_count": 25,
   "id": "9eec457b",
   "metadata": {},
   "outputs": [
    {
     "name": "stdout",
     "output_type": "stream",
     "text": [
      "name: circle args: 10\n",
      "name: bye args: None\n"
     ]
    }
   ],
   "source": [
    "call_function_from_query(query_1)\n"
   ]
  }
 ],
 "metadata": {
  "kernelspec": {
   "display_name": "Python 3 (ipykernel)",
   "language": "python",
   "name": "python3"
  },
  "language_info": {
   "codemirror_mode": {
    "name": "ipython",
    "version": 3
   },
   "file_extension": ".py",
   "mimetype": "text/x-python",
   "name": "python",
   "nbconvert_exporter": "python",
   "pygments_lexer": "ipython3",
   "version": "3.11.5"
  }
 },
 "nbformat": 4,
 "nbformat_minor": 5
}
