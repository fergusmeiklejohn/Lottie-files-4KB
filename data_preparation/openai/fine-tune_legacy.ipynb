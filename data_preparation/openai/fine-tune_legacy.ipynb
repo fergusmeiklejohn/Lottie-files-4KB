{
 "cells": [
  {
   "cell_type": "markdown",
   "metadata": {},
   "source": [
    "Install OpenAI pakcages"
   ]
  },
  {
   "cell_type": "code",
   "execution_count": null,
   "metadata": {},
   "outputs": [],
   "source": [
    "!pip install --upgrade openai"
   ]
  },
  {
   "cell_type": "markdown",
   "metadata": {},
   "source": [
    "Helper function to transform lottie json file into required format "
   ]
  },
  {
   "cell_type": "code",
   "execution_count": 3,
   "metadata": {},
   "outputs": [],
   "source": [
    "import json\n",
    "import os\n",
    "\n",
    "def create_json_object(file_path):\n",
    "    with open(file_path, 'r') as f:\n",
    "        data = json.load(f)\n",
    "        title = file_path.split(\"/\")[-1].split(\".\")[0].replace('_', ' ')\n",
    "        json_obj = {\"prompt\": \"Generate lottie json file based on description: \" + title + \"\\n\\n###\\n\\n\", \"completion\": json.dumps(data) + \" END\"}\n",
    "        return json_obj\n",
    "\n",
    "\n",
    "def create_jsonl(directory_path, output_file_path):\n",
    "    with open(output_file_path, 'w') as f:\n",
    "        for file_name in os.listdir(directory_path):\n",
    "            if file_name.endswith('.json'):\n",
    "                file_path = os.path.join(directory_path, file_name)\n",
    "                json_obj = create_json_object(file_path)\n",
    "                json.dump(json_obj, f)\n",
    "                f.write('\\n')"
   ]
  },
  {
   "cell_type": "markdown",
   "metadata": {},
   "source": [
    "Loop through json file under folder augmented_files, create output dataset for fine-tuning openAI's model, the result will be saved as out.jsonl"
   ]
  },
  {
   "cell_type": "code",
   "execution_count": 4,
   "metadata": {},
   "outputs": [],
   "source": [
    "create_jsonl('augmented_files', 'aug.json')"
   ]
  },
  {
   "cell_type": "markdown",
   "metadata": {},
   "source": [
    "Upload the prepared dataset"
   ]
  },
  {
   "cell_type": "code",
   "execution_count": null,
   "metadata": {},
   "outputs": [],
   "source": [
    "import os\n",
    "import openai\n",
    "\n",
    "openai.api_key = os.getenv(\"OPENAI_API_KEY\")\n",
    "file = openai.File.create(\n",
    "  file=open(\"out.jsonl\", \"rb\"),\n",
    "  purpose='fine-tune'\n",
    ")\n",
    "print(file.id)"
   ]
  },
  {
   "cell_type": "markdown",
   "metadata": {},
   "source": [
    "Start Fine-tune job"
   ]
  },
  {
   "cell_type": "code",
   "execution_count": null,
   "metadata": {},
   "outputs": [],
   "source": [
    "\n",
    "openai.FineTune.list()\n",
    "ft_obj = openai.FineTune.create(training_file=file.id, model=\"davinci\")\n",
    "print(ft_obj)"
   ]
  },
  {
   "cell_type": "markdown",
   "metadata": {},
   "source": [
    "Wait for fine-tune job to be finished. When finished, the model name will be listed: e.g. davinci:ft-personal-2023-08-15-02-12-49\n"
   ]
  },
  {
   "cell_type": "code",
   "execution_count": null,
   "metadata": {},
   "outputs": [],
   "source": [
    "openai.FineTune.retrieve(id=ft_obj.id).status\n",
    "ft_model = openai.FineTune.retrieve(id=ft_obj.id).fine_tuned_model\n",
    "print(ft_model)"
   ]
  },
  {
   "cell_type": "markdown",
   "metadata": {},
   "source": [
    "Use the newly trained model"
   ]
  },
  {
   "cell_type": "code",
   "execution_count": null,
   "metadata": {},
   "outputs": [],
   "source": [
    "def apply_ft(description, model_name):\n",
    "    prompt = f\"Generate lottie json file based on description: {description}\"\n",
    "    print(prompt)\n",
    "    result = openai.Completion.create(model=model_name, prompt=prompt, temperature=0, top_p=1, n=1, logprobs=2)\n",
    "    print(\"result: \" + result['choices'][0]['text'])\n",
    "\n",
    "apply_ft('white line on black background draw itself from left to right', ft_model)"
   ]
  }
 ],
 "metadata": {
  "kernelspec": {
   "display_name": "promptviz",
   "language": "python",
   "name": "python3"
  },
  "language_info": {
   "codemirror_mode": {
    "name": "ipython",
    "version": 3
   },
   "file_extension": ".py",
   "mimetype": "text/x-python",
   "name": "python",
   "nbconvert_exporter": "python",
   "pygments_lexer": "ipython3",
   "version": "3.9.17"
  },
  "orig_nbformat": 4
 },
 "nbformat": 4,
 "nbformat_minor": 2
}
