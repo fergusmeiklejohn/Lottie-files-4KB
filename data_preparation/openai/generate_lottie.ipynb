{
 "cells": [
  {
   "cell_type": "markdown",
   "metadata": {},
   "source": [
    "### Install OpenAI pakcages"
   ]
  },
  {
   "cell_type": "code",
   "execution_count": null,
   "metadata": {},
   "outputs": [],
   "source": [
    "!pip uninstall --yes openai\n",
    "!pip install --upgrade pip\n",
    "!pip install openai "
   ]
  },
  {
   "cell_type": "code",
   "execution_count": null,
   "metadata": {},
   "outputs": [],
   "source": [
    "!python --version"
   ]
  },
  {
   "cell_type": "code",
   "execution_count": 14,
   "metadata": {},
   "outputs": [],
   "source": [
    "import os\n",
    "import openai\n",
    "\n",
    "openai.api_key = <OPEN_AI_API_KEY>"

   ]
  },
  {
   "cell_type": "markdown",
   "metadata": {},
   "source": [
    "#### Fine-Tune OpenAI GPT3.5 model\n",
    "Step 1. generate >50 sample lottie animation instructions and save them as a JSON file named generated_prompt.json <br>\n",
    "Step 2. generate lottie files with GPT 4 model based on insturction in step 1<br>\n",
    "Step 3. manually import the generated lottie files into AE, and exportthem again (only keep 10-20 valid samples, other are not regonizable)<br>\n",
    "Step 4. construct fine-tune dataset with prompt and valid samples<br>\n",
    "Step 5. fine-tune openAI GPT3.5 with dataset<br>\n",
    "Step 6. apply fine-tuned model to generate new lottie animation files<br>"
   ]
  },
  {
   "cell_type": "code",
   "execution_count": 14,
   "metadata": {},
   "outputs": [],
   "source": [
    "def generate_lottie_prompt(action):\n",
    "    completion = openai.ChatCompletion.create(\n",
    "    model=\"gpt-4\",\n",
    "    messages=[\n",
    "        {\"role\": \"system\", \"content\": \"You are lottie file generator. lottie file should be inside code block ```json ```. format of lottie file: version is 5.12.1. layer is required. one shape should be in layer. a, p, o, r, s should be in both layer and shape,  hd = false. ip, op, sr, st should be in top level, layer, and shape. fill and transform should be parallel to shape json. for keyframe,  it should has two json objects with field i,o,s,t,ti,to.\"},\n",
    "        {\"role\": \"user\", \"content\": action}\n",
    "    ]\n",
    "    )\n",
    "\n",
    "    return completion.choices[0].message.content\n"
   ]
  },
  {
   "cell_type": "markdown",
   "metadata": {},
   "source": [
    "extract json blob from GenAI response"
   ]
  },
  {
   "cell_type": "code",
   "execution_count": 10,
   "metadata": {},
   "outputs": [],
   "source": [
    "import re\n",
    "import json\n",
    "\n",
    "def extract_json_blob(paragraph):\n",
    "    # Define a regular expression pattern to match the JSON blob\n",
    "    pattern = r\"```json\\n(.+?)\\n```\"\n",
    "\n",
    "    # Use the re.search() function to find the first match of the pattern in the paragraph\n",
    "    match = re.search(pattern, paragraph, re.DOTALL)\n",
    "\n",
    "    if match:\n",
    "        # If a match is found, extract the JSON blob from the match object\n",
    "        json_blob = match.group(1)\n",
    "\n",
    "        # Use the json.loads() function to parse the JSON blob into a Python object\n",
    "        json_obj = json.loads(json_blob)\n",
    "\n",
    "        # Return the Python object\n",
    "        return json_obj\n",
    "    else:\n",
    "        # If no match is found, return None\n",
    "        return None"
   ]
  },
  {
   "cell_type": "markdown",
   "metadata": {},
   "source": [
    "generate lottie files with gpt4"
   ]
  },
  {
   "cell_type": "code",
   "execution_count": 20,
   "metadata": {},
   "outputs": [
    {
     "name": "stdout",
     "output_type": "stream",
     "text": [
      "{'v': '5.12.1', 'ip': 0, 'op': 60, 'fr': 30, 'sr': 1, 'st': 0, 'layers': [{'ddd': 0, 'ind': 1, 'ty': 4, 'nm': 'Rectangle', 'hd': False, 'sr': 1, 'st': 0, 'ip': 0, 'op': 60, 'shapes': [{'ty': 'gr', 'it': [{'ty': 'fl', 'c': {'a': 0, 'k': [0.878, 0.69, 1, 1]}, 'o': {'a': 0, 'k': 100}}, {'ty': 'tr', 'p': {'a': 0, 'k': [0, 0]}, 'sk': {'a': 1, 'k': [{'i': {'x': [0], 'y': [1]}, 'o': {'x': [1], 'y': [0]}, 's': [0], 't': 0, 'to': [0, 0], 'ti': [0, 0]}, {'i': {'x': [0], 'y': [1]}, 'o': {'x': [1], 'y': [0]}, 's': [360], 't': 60, 'to': [0, 0], 'ti': [0, 0]}]}}, {'ty': 'rc', 's': {'a': 1, 'k': [{'i': {'x': [0, 0], 'y': [1, 1]}, 'o': {'x': [1, 1], 'y': [0, 0]}, 's': [0, 0], 't': 0, 'to': [100, 100], 'ti': [0, 0]}, {'i': {'x': [0, 0], 'y': [1, 1]}, 'o': {'x': [1, 1], 'y': [0, 0]}, 's': [100, 100], 't': 1, 'to': [0, 0], 'ti': [100, 100]}]}}]}]}]}\n",
      "None\n",
      "{'v': '5.12.1', 'fr': 30, 'ip': 0, 'op': 60, 'sr': 1, 'st': 0, 'hd': False, 'assets': [], 'layers': [{'ddd': 0, 'ind': 1, 'ty': 4, 'nm': 'Ellipse Layer', 'sr': 1, 'ks': {'a': {'a': 1, 'k': [{'i': {'x': 0.667, 'y': 1}, 'o': {'x': 0.167, 'y': 0.167}, 's': [0, 0], 't': 0, 'to': [100, 100], 'ti': [0, 0]}, {'t': 60}], 'ix': 10}, 'p': {'a': 1, 'k': [{'i': {'x': 0.667, 'y': 1}, 'o': {'x': 0.167, 'y': 0.167}, 's': [250, 250, 0], 't': 0, 'to': [0, 100, 0], 'ti': [0, 0]}, {'t': 60}], 'ix': 2}, 'r': {'a': 1, 'k': [{'i': {'x': 0.667, 'y': 1}, 'o': {'x': 0.167, 'y': 0.167}, 's': [0], 't': 0, 'to': [2], 'ti': [0]}, {'t': 60}], 'ix': 0}, 'o': {'a': 0, 'k': 100, 'ix': 3}, 's': {'a': 1, 'k': [{'i': {'x': 0.667, 'y': 1}, 'o': {'x': 0.167, 'y': 0.167}, 's': [100, 100, 100], 't': 0, 'to': [100, 100, 0], 'ti': [0, 0]}, {'t': 60}], 'ix': 6}}, 'shapes': [{'ty': 'el', 'r': {'a': 0, 'k': 50, 'ix': 8}, 'fill': {'a': 0, 'k': [0.894, 0.102, 0.109, 1], 'ix': 10}, 'transform': {'a': {'a': 0, 'k': [0, 0], 'ix': 2}, 'p': {'a': 0, 'k': [0, 0], 'ix': 3}, 'r': {'a': 0, 'k': 0, 'ix': 6}, 's': {'a': 0, 'k': [100, 100], 'ix': 4}}}], 'ip': 0, 'op': 60, 'st': 0}]}\n",
      "{'v': '5.12.1', 'fr': 60, 'ip': 0, 'op': 300, 'w': 500, 'h': 500, 'nm': 'Bouncing Polystar', 'ddd': 0, 'layers': [{'ddd': 0, 'ind': 1, 'ty': 4, 'nm': 'Polystar', 'sr': 1, 'ks': {'o': {'a': 1, 'k': [{'i': {'x': [0.833], 'y': [0.833]}, 'o': {'x': [0.167], 'y': [0.167]}, 't': 0, 's': [100]}, {'t': 300, 's': [100]}]}, 'r': {'a': 0, 'k': 0}, 'p': {'a': 1, 'k': [{'i': {'x': 0.5, 'y': 1}, 'o': {'x': 0.5, 'y': 0}, 'n': '0p5_1_0p5_0', 't': 0, 's': [250, 450, 0], 'e': [250, 50, 0], 'to': [0, -66.667, 0], 'ti': [0, 66.667, 0]}, {'t': 150}]}, 'a': {'a': 0, 'k': [0, 0, 0]}, 's': {'a': 1, 'k': [{'i': {'x': [0.833, 0.833, 0.833], 'y': [0.833, 0.833, 0.833]}, 'o': {'x': [0.167, 0.167, 0.167], 'y': [0.167, 0.167, 0.167]}, 't': 0, 's': [100, 100, 100]}, {'t': 300, 's': [100, 100, 100]}]}}, 'shapes': [{'ty': 'gr', 'it': [{'ty': 'st'}, {'ty': 'fl', 'c': {'a': 0, 'k': [0.8, 0.6, 0, 1]}, 'o': {'a': 0, 'k': 100}, 'r': 1}, {'ty': 'tr'}]}]}]}\n",
      "Expecting value: line 117 column 26 (char 2475)\n",
      "{'v': '5.12.1', 'ip': 0, 'op': 100, 'fr': 30, 'w': 800, 'h': 600, 'hd': False, 'assets': [], 'layers': [{'ddd': 0, 'ind': 1, 'ty': 4, 'nm': 'Layer 1', 'ip': 0, 'op': 100, 'st': 0, 'sr': 1, 'shapes': [{'ty': 'gr', 'it': [{'ty': 'rc', 'nm': 'Rectangle', 'a': {'a': 0, 'k': [0, 0]}, 'p': {'a': 1, 'k': [{'i': {'x': 0, 'y': 1}, 'o': {'x': 0, 'y': 0}, 't': 0, 's': [0, 0], 'to': [0, 0], 'ti': [0, 0]}, {'i': {'x': 0, 'y': 1}, 'o': {'x': 0, 'y': 0}, 't': 50, 's': [800, 450], 'to': [0, 0], 'ti': [0, 0]}]}, 'r': {'a': 1, 'k': [{'t': 0, 's': [0]}, {'t': 50, 's': [360]}]}, 'pt': 5, 'o': {'a': 0, 'k': 100}, 'w': {'a': 0, 'k': 100}, 'h': {'a': 0, 'k': 100}}, {'ty': 'fl', 'nm': 'Fill', 'c': {'a': 0, 'k': [0, 128, 0]}, 'o': {'a': 0, 'k': 100}}, {'ty': 'tr', 'nm': 'Transform', 'a': {'a': 0, 'k': [0, 0]}, 'p': {'a': 1, 'k': [{'t': 0, 's': [400, 300]}, {'t': 50, 's': [400, 300]}]}, 'r': {'a': 1, 'k': [{'t': 0, 's': [0]}, {'t': 50, 's': [360]}]}, 's': {'a': 0, 'k': [100, 100]}, 'o': {'a': 0, 'k': 100}}]}]}]}\n",
      "{'v': '5.12.1', 'fr': 30, 'ip': 0, 'op': 60, 'w': 500, 'h': 500, 'hd': False, 'layers': [{'ddd': 1, 'ind': 1, 'ty': 4, 'nm': 'Polystar layer', 'sr': 1, 'ks': {'o': {'a': 1, 'k': [{'i': {'x': [0.833], 'y': [0.833]}, 'o': {'x': [0.167], 'y': [0.167]}, 't': 0, 's': [100], 'e': [100]}, {'t': 60}], 'ix': 11}, 'r': {'a': 1, 'k': [{'i': {'x': [0.833], 'y': [0.833]}, 'o': {'x': [0.167], 'y': [0.167]}, 't': 0, 's': [0], 'e': [360]}, {'t': 60}], 'ix': 10}, 'a': {'a': 0, 'k': [0, 0, 0], 'ix': 2}, 'p': {'a': 0, 'k': [250, 250, 0], 'ix': 3}, 's': {'a': 1, 'k': [{'i': {'x': [0.833], 'y': [0.833]}, 'o': {'x': [0.167], 'y': [0.167]}, 't': 0, 's': [100, 100, 100], 'e': [100, 100, 100]}, {'t': 60}], 'ix': 6}}, 'shapes': [{'ty': 'gr', 'it': [{'d': 1, 'ty': 'star', 's': {'a': 1, 'k': [{'i': {'x': [0.833], 'y': [0.833]}, 'o': {'x': [0.167], 'y': [0.167]}, 't': 0, 's': [50, 50], 'e': [50, 50]}, {'t': 60}], 'ix': 103}, 'p': {'a': 1, 'k': [{'i': {'x': [0.833], 'y': [0.833]}, 'o': {'x': [0.167], 'y': [0.167]}, 't': 0, 's': [50, 50], 'e': [50, 50]}, {'t': 60}], 'ix': 0}, 'nm': 'Polygon Path 1'}, {'ty': 'fl', 'c': {'a': 0, 'k': [1, 0.49804, 0.31373, 1], 'ix': 4}, 'o': {'a': 1, 'k': [{'i': {'x': [0.833], 'y': [0.833]}, 'o': {'x': [0.167], 'y': [0.167]}, 't': 0, 's': [100], 'e': [100]}, {'t': 60}], 'ix': 5}, 'nm': 'Fill 1'}, {'ty': 'tr', 'p': {'a': 0, 'k': [0, 0], 'ix': 2}, 'a': {'a': 0, 'k': [0, 0], 'ix': 1}, 's': {'a': 1, 'k': [{'i': {'x': [0.833], 'y': [0.833]}, 'o': {'x': [0.167], 'y': [0.167]}, 't': 0, 's': [100, 100], 'e': [100, 100]}, {'t': 60}], 'ix': 3}, 'r': {'a': 0, 'k': 0, 'ix': 6}, 'o': {'a': 0, 'k': 100, 'ix': 7}, 'nm': 'Transform'}], 'nm': 'Polystar 1'}], 'st': 0, 'bm': 0}]}\n",
      "{'v': '5.12.1', 'ip': 0, 'op': 100, 'fr': 30, 'layers': [{'ddd': 0, 'ind': 1, 'ty': 4, 'nm': 'Layer 1', 'sr': 1, 'st': 0, 'ip': 0, 'op': 100, 'shapes': [{'ty': 'el', 'nm': 'Ellipse', 'p': {'a': 0, 'k': [250, 250]}, 'o': {'a': 0, 'k': 100}, 'r': {'a': 0, 'k': 50}, 's': {'a': 1, 'k': [{'i': {'x': [0.833], 'y': [0.833]}, 'o': {'x': [0.333], 'y': [0]}, 'n': ['0p833_0p833_0p333_0'], 't': 0, 's': [100, 100]}, {'t': 100}]}, 'fill': {'c': {'a': 0, 'k': [0.9, 0.9, 1, 1]}, 'o': {'a': 0, 'k': 100}}, 'transform': {'a': 0, 'p': {'a': 1, 'k': [{'i': {'x': 0.833, 'y': 1}, 'o': {'x': 0.333, 'y': 0}, 'n': '0p833_1_0p333_0', 't': 0, 's': [250, 250], 'e': [350, 350], 'to': [20, 0], 'ti': [-20, 0]}, {'i': {'x': 0.833, 'y': 1}, 'o': {'x': 0.333, 'y': 0}, 'n': '0p833_1_0p333_0', 't': 50, 's': [350, 350], 'e': [250, 250], 'to': [-20, 0], 'ti': [20, 0]}, {'t': 100}]}, 'r': {'a': 0, 'k': 0}, 's': {'a': 0, 'k': [100, 100]}, 'o': {'a': 0, 'k': 100}}}], 'hd': False}]}\n",
      "{'v': '5.12.1', 'fr': 60, 'ip': 0, 'op': 120, 'w': 800, 'h': 800, 'nm': 'Bouncing Rectangle', 'ddd': 0, 'assets': [], 'layers': [{'ddd': 0, 'ind': 1, 'ty': 4, 'nm': 'Rectangle', 'sr': 1, 'ks': {'o': {'a': 1, 'k': 100, 'ip': 0, 'op': 120, 'st': 0, 'sr': 1}, 'p': {'a': 1, 'k': [{'i': {'x': 0.667, 'y': 1}, 'o': {'x': 0.333, 'y': 0}, 'n': '0p667_1_0p333_0', 't': 0, 's': [400, 700], 'e': [400, 100], 'to': [0, -100], 'ti': [0, 100]}, {'i': {'x': 0.667, 'y': 1}, 'o': {'x': 0.333, 'y': 0}, 'n': '0p667_1_0p333_0', 't': 20, 's': [400, 100], 'e': [400, 700], 'to': [0, 100], 'ti': [0, -100]}, {'t': 40}], 'ip': 0, 'op': 120, 'st': 0, 'sr': 1}, 'a': {'a': 0, 'k': [0, 0], 'ip': 0, 'op': 120, 'st': 0, 'sr': 1}, 's': {'a': 1, 'k': [{'s': [100, 100], 't': 0}, {'s': [100, 100], 't': 40}], 'ip': 0, 'op': 120, 'st': 0, 'sr': 1}, 'r': {'a': 0, 'k': 0, 'ip': 0, 'op': 120, 'st': 0, 'sr': 1}}, 'shapes': [{'ty': 'gr', 'it': [{'ty': 'rc', 'd': 1, 'nm': 'Rectangle', 'sr': 1, 'it': [{'ty': 'fl', 'c': {'a': 0, 'k': [0.82, 0.498, 0.263, 1], 'ip': 0, 'op': 120, 'st': 0, 'sr': 1}, 'o': {'a': 0, 'k': 100, 'ip': 0, 'op': 120, 'st': 0, 'sr': 1}, 'r': 1}, {'ty': 'tr', 'p': {'a': 0, 'k': [-36.172, -35.608], 'ip': 0, 'op': 120, 'st': 0, 'sr': 1}, 'a': {'a': 0, 'k': [0, 0], 'ip': 0, 'op': 120, 'st': 0, 'sr': 1}, 's': {'a': 1, 'k': [{'s': [100, 100], 't': 0}, {'s': [100, 100], 't': 40}], 'ip': 0, 'op': 120, 'st': 0, 'sr': 1}, 'r': {'a': 0, 'k': 0, 'ip': 0, 'op': 120, 'st': 0, 'sr': 1}, 'o': {'a': 1, 'k': 100, 'ip': 0, 'op': 120, 'st': 0, 'sr': 1}}]}]}]}]}\n",
      "{'v': '5.12.1', 'ip': 0, 'op': 60, 'fr': 30, 'sr': 1, 'st': 0, 'hd': False, 'layers': [{'ddd': 0, 'ind': 1, 'ty': 4, 'nm': 'Layer 1', 'hd': False, 'ks': {'p': {}, 'o': {}, 'r': {}, 's': {}}, 'shapes': [{'ty': 'gr', 'hd': False, 'it': [{'ty': 'fl', 'c': {'a': 1, 'k': [{'i': {'x': [0.1], 'y': [1]}, 'o': {'x': [0.167], 'y': [0.167]}, 't': 0, 's': [0.502, 0.035, 0.035, 1]}, {'t': 30, 's': [0.9, 0.3, 0.4, 1]}]}, 'o': {}, 'r': {}, 's': {}}, {'ty': 'tr', 'p': {}, 'a': {}, 's': {}, 'r': {}, 'o': {}, 'sk': {}, 'sa': {}}], 'nm': 'Polystar Fill 1', 'a': {}, 'p': {}, 'r': {}, 's': {}, 'o': {}}]}], 'assets': []}\n",
      "{'v': '5.12.1', 'fr': 60, 'ip': 0, 'op': 60, 'w': 500, 'h': 500, 'nm': 'ellipse', 'ddd': 0, 'assets': [], 'layers': [{'ddd': 0, 'ind': 1, 'ty': 4, 'nm': 'ellipse', 'sr': 1, 'ks': {'o': {'a': 1, 'k': 100, 'ix': 11}, 'r': {'a': 1, 'k': 0, 'ix': 10}, 'p': {'a': 1, 'k': [0, 0, 0], 'ix': 2}, 'a': {'a': 1, 'k': [0, 0], 'ix': 1}, 's': {'a': 1, 'k': [100, 100], 'ix': 6}}, 'ao': 0, 'shapes': [{'ty': 'gr', 'it': [{'ind': 0, 'ty': 'sh', 'ix': 1, 'ks': {'a': 1, 'k': {'i': [{'x': 0.667, 'y': 1}], 'o': [{'x': 0.333, 'y': 0}], 'v': [{'x': 0, 'y': 0}], 'c': True}, 'ix': 2}, 'nm': 'Path 1', 'mn': 'ADBE Vector Shape - Group', 'hd': False}, {'ty': 'st', 'c': {'a': 1, 'k': [0, 0, 128, 1], 'ix': 3}, 'o': {'a': 1, 'k': 100, 'ix': 4}, 'w': {'a': 1, 'k': 2, 'ix': 5}, 'lc': 1, 'lj': 1, 'ml': 4, 'nm': 'Stroke 1', 'mn': 'ADBE Vector Graphic - Stroke', 'hd': False}, {'ty': 'tr', 'p': {'a': 1, 'k': [250, 250], 'ix': 2}, 'a': {'a': 1, 'k': [0, 0], 'ix': 1}, 's': {'a': 1, 'k': [100, 100], 'ix': 3}, 'r': {'a': 0, 'k': 0, 'ix': 6}, 'o': {'a': 1, 'k': 100, 'ix': 7}, 'sk': {'a': 0, 'k': 0, 'ix': 4}, 'sa': {'a': 0, 'k': 0, 'ix': 5}, 'nm': 'Transform'}], 'nm': 'ellipse', 'np': 2, 'cix': 2, 'ix': 1, 'mn': 'ADBE Vector Group', 'hd': False}], 'ip': 0, 'op': 60, 'st': 0, 'bm': 0}], 'markers': []}\n",
      "Expecting property name enclosed in double quotes: line 64 column 13 (char 1913)\n",
      "{'v': '5.12.1', 'ip': 0, 'op': 100, 'fr': 25, 'sr': 1, 'hd': False, 'layers': [{'ip': 0, 'op': 100, 'sr': 1, 'st': 0, 'bm': 0, 'ind': 1, 'ty': 4, 'nm': 'Shape Layer 1', 'hd': False, 'ao': 0, 'ks': {'o': {'a': 0, 'k': 100}, 'r': {'a': 1, 'k': [{'i': {'x': 0, 'y': 1}, 'o': {'x': 0.167, 'y': 0.167}, 's': [0], 't': 0}, {'i': {'x': 0.833, 'y': 0.833}, 'o': {'x': 0, 'y': 0}, 's': [360], 't': 100}]}, 'p': {'a': 0, 'k': [0, 0, 0]}, 'a': {'a': 0, 'k': [0, 0, 0]}, 's': {'a': 0, 'k': [100, 100, 100]}}, 'shapes': [{'ip': 0, 'op': 100, 'sr': 1, 'st': 0, 'ty': 'r', 'nm': 'Rectangle Path 1', 'hd': False, 'it': [{'p': {'a': 0, 'k': [0, 0]}, 's': {'a': 1, 'k': [{'i': {'x': 0, 'y': 1}, 'o': {'x': 0.167, 'y': 0.167}, 's': [100, 100], 't': 0, 'to': [0, 0], 'ti': [0, 0]}, {'i': {'x': 0.833, 'y': 0.833}, 'o': {'x': 0, 'y': 0}, 's': [100, 100], 't': 100, 'to': [0, 0], 'ti': [0, 0]}]}, 'ty': 'tr'}, {'a': {'a': 0, 'k': [0, 0, 0]}, 'ty': 'fl', 'c': {'a': 0, 'k': [0, 0, 255, 1]}, 'o': {'a': 0, 'k': 100}}]}]}]}\n",
      "{'v': '5.12.1', 'ip': 0, 'op': 60, 'fr': 30, 'sr': 1, 'st': 0, 'hd': False, 'layers': [{'ip': 0, 'op': 60, 'st': 0, 'sr': 1, 'ki': [{'i': {'x': 0, 'y': 1}, 'o': {'x': 0.167, 'y': 0.167}, 's': [100, 100, 100], 't': 0, 'ti': [0, 0, 0], 'to': [0, 0, 0]}, {'i': {'x': 0.833, 'y': 0.833}, 'o': {'x': 0.333, 'y': 0}, 's': [50, 50, 50], 't': 60, 'ti': [0, 0, 0], 'to': [0, 0, 0]}], 'shapes': [{'ty': 'rect', 'r': 0, 's': [100, 100], 'p': [0, 0], 'o': 100, 'a': 0, 'fill': {'c': [0, 0, 255], 'o': 100}, 'transform': {'s': [0, 0], 'r': 0}}, {'ty': 'ellipse', 's': [100, 100], 'p': [0, 0], 'o': 100, 'a': 0, 'fill': {'c': [0, 0, 255], 'o': 100}, 'transform': {'s': [0, 0], 'r': 0}}]}]}\n",
      "{'v': '5.12.1', 'fr': 30, 'ip': 0, 'op': 150, 'w': 1280, 'h': 720, 'nm': 'blue square scaling', 'ddd': 0, 'assets': [], 'layers': [{'ddd': 0, 'ind': 1, 'ty': 4, 'nm': 'Layer 1', 'sr': 1, 'ks': {'o': {'a': 1, 'k': [{'s': [100], 'e': [100], 't': 0, 'd': 1}, {'s': [100], 'e': [80], 't': 30, 'd': 15}, {'s': [80], 'e': [100], 't': 45, 'd': 30}, {'s': [100], 'e': [80], 't': 75, 'd': 30}]}, 'r': {'a': 0, 'k': 0}, 'p': {'a': 0, 'k': [640, 360, 0]}, 'a': {'a': 0, 'k': [0, 0, 0]}, 's': {'a': 1, 'k': [{'s': [0, 0, 100], 'e': [100, 100, 100], 't': 0, 'd': 30}, {'s': [100, 100, 100], 'e': [80, 80, 100], 't': 30, 'd': 15}, {'s': [80, 80, 100], 'e': [100, 100, 100], 't': 45, 'd': 30}, {'s': [100, 100, 100], 'e': [80, 80, 100], 't': 75, 'd': 30}]}}, 'shapes': [{'ty': 'gr', 'it': [{'ind': 0, 'ty': 'sh', 'nm': 'Rectangle Path 1', 's': {'a': 0, 'k': {'a': 1, 'k': [{'t': 0, 's': [100, 100], 'e': [100, 100], 'i': {'x': [0.833, 0.833], 'y': [0.833, 0.833]}, 'o': {'x': [0.333, 0.333], 'y': [0, 0]}, 'n': ['0p833_0p833_0p333_0', '0p833_0p833_0p333_0']}, {'t': 30, 's': [80, 80], 'e': [80, 80], 'i': {'x': [0.833, 0.833], 'y': [0.833, 0.833]}, 'o': {'x': [0.333, 0.333], 'y': [0, 0]}, 'n': ['0p833_0p833_0p333_0', '0p833_0p833_0p333_0']}, {'t': 45, 's': [100, 100], 'e': [100, 100], 'i': {'x': [0.833, 0.833], 'y': [0.833, 0.833]}, 'o': {'x': [0.333, 0.333], 'y': [0, 0]}, 'n': ['0p833_0p833_0p333_0', '0p833_0p833_0p333_0']}, {'t': 75, 's': [80, 80], 'e': [80, 80], 'i': {'x': [0.833, 0.833], 'y': [0.833, 0.833]}, 'o': {'x': [0.333, 0.333], 'y': [0, 0]}, 'n': ['0p833_0p833_0p333_0', '0p833_0p833_0p333_0']}]}, 'o': 100, 'x': 0, 'y': 0}, 'fill': {'ty': 'fl', 'c': {'a': 0, 'k': [0, 0, 1, 1], 'ix': 4}, 'o': {'a': 0, 'k': 100, 'ix': 5}, 'r': 1, 'hd': False}, 'transform': {'a': {'a': 0, 'k': [0, 0, 0]}, 'k': [0, 0, 0], 'o': {'a': 1, 'k': [{'s': [100], 'e': [100], 't': 0, 'd': 1}, {'s': [100], 'e': [80], 't': 30, 'd': 15}, {'s': [80], 'e': [100], 't': 45, 'd': 30}, {'s': [100], 'e': [80], 't': 75, 'd': 30}]}, 'r': {'a': 0, 'k': 0}, 'p': {'a': 0, 'k': [0, 0, 0]}, 's': {'a': 1, 'k': [{'t': 0, 's': [100, 100], 'e': [100, 100], 'i': {'x': [0.833, 0.833], 'y': [0.833, 0.833]}, 'o': {'x': [0.333, 0.333], 'y': [0, 0]}, 'n': ['0p833_0p833_0p333_0', '0p833_0p833_0p333_0']}, {'t': 30, 's': [80, 80], 'e': [80, 80], 'i': {'x': [0.833, 0.833], 'y': [0.833, 0.833]}, 'o': {'x': [0.333, 0.333], 'y': [0, 0]}, 'n': ['0p833_0p833_0p333_0', '0p833_0p833_0p333_0']}, {'t': 45, 's': [100, 100], 'e': [100, 100], 'i': {'x': [0.833, 0.833], 'y': [0.833, 0.833]}, 'o': {'x': [0.333, 0.333], 'y': [0, 0]}, 'n': ['0p833_0p833_0p333_0', '0p833_0p833_0p333_0']}, {'t': 75, 's': [80, 80], 'e': [80, 80], 'i': {'x': [0.833, 0.833], 'y': [0.833, 0.833]}, 'o': {'x': [0.333, 0.333], 'y': [0, 0]}, 'n': ['0p833_0p833_0p333_0', '0p833_0p833_0p333_0']}]}}}]}]}]}\n"
     ]
    }
   ],
   "source": [
    "import json\n",
    "\n",
    "with open('generated_prompt.json', 'r') as f:\n",
    "    o = json.load(f)\n",
    "    for json_obj in o['lottie_prompts'][:72]:\n",
    "        lo = generate_lottie_prompt(json_obj['description'])\n",
    "        try:\n",
    "            lo_extracted = extract_json_blob(lo)\n",
    "            print(lo_extracted)\n",
    "            if lo_extracted:\n",
    "                with open(f\"out/{json_obj['id']}.json\", 'w') as outfile:\n",
    "                    json.dump(lo_extracted, outfile)\n",
    "        except Exception as e:\n",
    "            print(e)\n"
   ]
  },
  {
   "cell_type": "markdown",
   "metadata": {},
   "source": [
    "create json blob "
   ]
  },
  {
   "cell_type": "code",
   "execution_count": 25,
   "metadata": {},
   "outputs": [],
   "source": [
    "import json\n",
    "import os\n",
    "\n",
    "\n",
    "def create_json_object(number):\n",
    "    with open('./out/' + str(number) + '_ae.json', 'r') as f:\n",
    "        data = json.load(f)\n",
    "        with open('generated_prompt.json', 'r') as lottie:\n",
    "            content = json.load(lottie)['lottie_prompts'][int(number)-1]['description']\n",
    "            json_obj = {\"messages\": [\n",
    "                            {\"role\": \"system\", \"content\": \"You are lottie file generator. lottie file should be inside code block ```json ```. format of lottie file: version is 5.12.1. layer is required. one shape should be in layer. a, p, o, r, s should be in both layer and shape,  hd = false. ip, op, sr, st should be in top level, layer, and shape. fill and transform should be parallel to shape json. for keyframe,  it should has two json objects with field i,o,s,t,ti,to.\"}, \n",
    "                            {\"role\": \"user\", \"content\": content}, \n",
    "                            {\"role\": \"assistant\", \"content\": json.dumps(data, ensure_ascii=False)}\n",
    "                        ]}\n",
    "        \n",
    "        return json_obj\n",
    "\n",
    "\n",
    "def create_jsonl(json_obj, output_file_path):\n",
    "    with open(output_file_path, 'a+') as f:\n",
    "        json.dump(json_obj, f)\n",
    "        f.write('\\n')"
   ]
  },
  {
   "cell_type": "code",
   "execution_count": 26,
   "metadata": {},
   "outputs": [],
   "source": [
    "for i in [1, 2, 4, 9, 25, 41, 61, 62, 63, 64, 65, 66, 67, 68, 69, 70, 71, 72, 73, 74, 75, 76, 77]:\n",
    "    create_jsonl(create_json_object(i), 'ft_0913.jsonl')"
   ]
  },
  {
   "cell_type": "markdown",
   "metadata": {},
   "source": [
    "Upload the prepared dataset"
   ]
  },
  {
   "cell_type": "code",
   "execution_count": 27,
   "metadata": {},
   "outputs": [
    {
     "name": "stdout",
     "output_type": "stream",
     "text": [
      "file-cOGsxBJQUC92HHC8qQ1I5cKd\n"
     ]
    }
   ],
   "source": [
    "\n",
    "file = openai.File.create(\n",
    "    file=open(\"ft_0913.jsonl\", \"rb\"),\n",
    "    purpose='fine-tune'\n",
    ")\n",
    "print(file.id)"
   ]
  },
  {
   "cell_type": "markdown",
   "metadata": {},
   "source": [
    "Start Fine-tune job"
   ]
  },
  {
   "cell_type": "code",
   "execution_count": 28,
   "metadata": {},
   "outputs": [
    {
     "name": "stdout",
     "output_type": "stream",
     "text": [
      "{\n",
      "  \"object\": \"fine_tuning.job\",\n",
      "  \"id\": \"ftjob-NWNQIxLKjF5PvXYGQaMH6wsw\",\n",
      "  \"model\": \"gpt-3.5-turbo-0613\",\n",
      "  \"created_at\": 1694588174,\n",
      "  \"finished_at\": null,\n",
      "  \"fine_tuned_model\": null,\n",
      "  \"organization_id\": \"org-0n31SOlYOG0jXlq6NaGViQdx\",\n",
      "  \"result_files\": [],\n",
      "  \"status\": \"created\",\n",
      "  \"validation_file\": null,\n",
      "  \"training_file\": \"file-cOGsxBJQUC92HHC8qQ1I5cKd\",\n",
      "  \"hyperparameters\": {\n",
      "    \"n_epochs\": 4\n",
      "  },\n",
      "  \"trained_tokens\": null,\n",
      "  \"error\": null\n",
      "}\n"
     ]
    }
   ],
   "source": [
    "\n",
    "openai.FineTune.list()\n",
    "ft_obj = openai.FineTuningJob.create(training_file=file.id, model=\"gpt-3.5-turbo-0613\")\n",
    "print(ft_obj)"
   ]
  },
  {
   "cell_type": "markdown",
   "metadata": {},
   "source": [
    "Wait for fine-tune job to be finished. When finished, the model name will be listed: e.g. davinci:ft-personal-2023-08-15-02-12-49\n"
   ]
  },
  {
   "cell_type": "code",
   "execution_count": 38,
   "metadata": {},
   "outputs": [
    {
     "name": "stdout",
     "output_type": "stream",
     "text": [
      "succeeded\n",
      "ft:gpt-3.5-turbo-0613:phase-software::7yEFQItN\n"
     ]
    }
   ],
   "source": [
    "print(openai.FineTuningJob.retrieve(id=ft_obj.id).status)\n",
    "ft_model = openai.FineTuningJob.retrieve(id=ft_obj.id).fine_tuned_model\n",
    "print(ft_model)"
   ]
  },
  {
   "cell_type": "markdown",
   "metadata": {},
   "source": [
    "Use the newly trained model"
   ]
  },
  {
   "cell_type": "code",
   "execution_count": 39,
   "metadata": {},
   "outputs": [],
   "source": [
    "def apply_ft(description, model_name):\n",
    "    completion = openai.ChatCompletion.create(\n",
    "        model=model_name,\n",
    "        messages=[\n",
    "            {\"role\": \"system\", \"content\": \"You are lottie file generator. lottie file should be inside code block ```json ```. format of lottie file: version is 5.12.1. layer is required. one shape should be in layer. a, p, o, r, s should be in both layer and shape,  hd = false. ip, op, sr, st should be in top level, layer, and shape. fill and transform should be parallel to shape json. for keyframe,  it should has two json objects with field i,o,s,t,ti,to.\"},\n",
    "            {\"role\": \"user\", \"content\": description}\n",
    "        ]\n",
    "    )\n",
    "    return completion.choices[0].message.content\n"
   ]
  },
  {
   "cell_type": "markdown",
   "metadata": {},
   "source": [
    "Examples of the result: "
   ]
  },
  {
   "cell_type": "code",
   "execution_count": 54,
   "metadata": {},
   "outputs": [],
   "source": [
    "out = apply_ft(\"generate lottie file pink circle move right to left in 3sec\", ft_model)\n",
    "with open('ft_pink_circle.json', 'w') as outfile:\n",
    "    outfile.write(out)"
   ]
  },
  {
   "cell_type": "code",
   "execution_count": 59,
   "metadata": {},
   "outputs": [],
   "source": [
    "out = apply_ft(\"generate lottie file red rectangle grow\", ft_model)\n",
    "with open('ft_red_rect_grow.json', 'w') as outfile:\n",
    "    outfile.write(out)"
   ]
  },
  {
   "cell_type": "code",
   "execution_count": 64,
   "metadata": {},
   "outputs": [],
   "source": [
    "out = apply_ft(\"generate lottie file blue rect move [0.0] to [50, 50] to [100, 50] to [0.0]\", ft_model)\n",
    "with open('ft_blue_rect_move_corners.json', 'w') as outfile:\n",
    "    outfile.write(out)"
   ]
  },
  {
   "cell_type": "code",
   "execution_count": 65,
   "metadata": {},
   "outputs": [],
   "source": [
    "out = apply_ft(\"generate lottie file red circle move around 4 corners\", ft_model)\n",
    "with open('ft_red_circle_move_corners.json', 'w') as outfile:\n",
    "    outfile.write(out)"
   ]
  },
  {
   "cell_type": "code",
   "execution_count": 62,
   "metadata": {},
   "outputs": [],
   "source": [
    "out = apply_ft(\"generate lottie file orangle circle flip\", ft_model)\n",
    "with open('ft_orangle_circle_flip.json', 'w') as outfile:\n",
    "    outfile.write(out)"
   ]
  },
  {
   "cell_type": "markdown",
   "metadata": {},
   "source": [
    "#### Conclusion \n",
    "\n",
    "Even with a limited set of approximately 25 samples, fine-tuning has resulted in noticeable enhancements—eliminating the need for lengthy instructions to teach the Language Learning Model (LLM) the correct format. However, the current approach only allows for basic level instructions, such as converting \"flip square\" into a keyframe description like \"width 100% to 0% to 100%.\" One avenue for future exploration could be the development of a separate model tasked with translating human language into keyframe-based descriptions. These descriptions could then be used to generate JSON files, potentially boosting performance. Another interesting direction would be to experiment with multiple shapes and varying instructions to see if this leads to further improvements."
   ]
  }
 ],
 "metadata": {
  "kernelspec": {
   "display_name": "promptviz",
   "language": "python",
   "name": "python3"
  },
  "language_info": {
   "codemirror_mode": {
    "name": "ipython",
    "version": 3
   },
   "file_extension": ".py",
   "mimetype": "text/x-python",
   "name": "python",
   "nbconvert_exporter": "python",
   "pygments_lexer": "ipython3",
   "version": "3.11.4"
  },
  "orig_nbformat": 4
 },
 "nbformat": 4,
 "nbformat_minor": 2
}
